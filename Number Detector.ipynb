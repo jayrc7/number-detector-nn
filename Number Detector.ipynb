{
 "cells": [
  {
   "cell_type": "code",
   "execution_count": 50,
   "id": "99815706",
   "metadata": {},
   "outputs": [],
   "source": [
    "# import libraries\n",
    "import pandas as pd\n",
    "import numpy as np\n",
    "import sklearn\n",
    "import matplotlib.pyplot as plt\n",
    "import torch\n",
    "from sklearn.model_selection import train_test_split\n",
    "from torch.utils.data import DataLoader\n",
    "import torch.nn.functional as F\n",
    "from torch.optim import SGD, Adam\n",
    "\n",
    "%matplotlib inline"
   ]
  },
  {
   "cell_type": "code",
   "execution_count": 51,
   "id": "147912e3",
   "metadata": {},
   "outputs": [
    {
     "name": "stdout",
     "output_type": "stream",
     "text": [
      "[[[ 0.  0.  5. ...  1.  0.  0.]\n",
      "  [ 0.  0. 13. ... 15.  5.  0.]\n",
      "  [ 0.  3. 15. ... 11.  8.  0.]\n",
      "  ...\n",
      "  [ 0.  4. 11. ... 12.  7.  0.]\n",
      "  [ 0.  2. 14. ... 12.  0.  0.]\n",
      "  [ 0.  0.  6. ...  0.  0.  0.]]\n",
      "\n",
      " [[ 0.  0.  0. ...  5.  0.  0.]\n",
      "  [ 0.  0.  0. ...  9.  0.  0.]\n",
      "  [ 0.  0.  3. ...  6.  0.  0.]\n",
      "  ...\n",
      "  [ 0.  0.  1. ...  6.  0.  0.]\n",
      "  [ 0.  0.  1. ...  6.  0.  0.]\n",
      "  [ 0.  0.  0. ... 10.  0.  0.]]\n",
      "\n",
      " [[ 0.  0.  0. ... 12.  0.  0.]\n",
      "  [ 0.  0.  3. ... 14.  0.  0.]\n",
      "  [ 0.  0.  8. ... 16.  0.  0.]\n",
      "  ...\n",
      "  [ 0.  9. 16. ...  0.  0.  0.]\n",
      "  [ 0.  3. 13. ... 11.  5.  0.]\n",
      "  [ 0.  0.  0. ... 16.  9.  0.]]\n",
      "\n",
      " ...\n",
      "\n",
      " [[ 0.  0.  1. ...  1.  0.  0.]\n",
      "  [ 0.  0. 13. ...  2.  1.  0.]\n",
      "  [ 0.  0. 16. ... 16.  5.  0.]\n",
      "  ...\n",
      "  [ 0.  0. 16. ... 15.  0.  0.]\n",
      "  [ 0.  0. 15. ... 16.  0.  0.]\n",
      "  [ 0.  0.  2. ...  6.  0.  0.]]\n",
      "\n",
      " [[ 0.  0.  2. ...  0.  0.  0.]\n",
      "  [ 0.  0. 14. ... 15.  1.  0.]\n",
      "  [ 0.  4. 16. ... 16.  7.  0.]\n",
      "  ...\n",
      "  [ 0.  0.  0. ... 16.  2.  0.]\n",
      "  [ 0.  0.  4. ... 16.  2.  0.]\n",
      "  [ 0.  0.  5. ... 12.  0.  0.]]\n",
      "\n",
      " [[ 0.  0. 10. ...  1.  0.  0.]\n",
      "  [ 0.  2. 16. ...  1.  0.  0.]\n",
      "  [ 0.  0. 15. ... 15.  0.  0.]\n",
      "  ...\n",
      "  [ 0.  4. 16. ... 16.  6.  0.]\n",
      "  [ 0.  8. 16. ... 16.  8.  0.]\n",
      "  [ 0.  1.  8. ... 12.  1.  0.]]]\n",
      "[0 1 2 ... 8 9 8]\n"
     ]
    },
    {
     "data": {
      "text/plain": [
       "dict_keys(['data', 'target', 'frame', 'feature_names', 'target_names', 'images', 'DESCR'])"
      ]
     },
     "execution_count": 51,
     "metadata": {},
     "output_type": "execute_result"
    }
   ],
   "source": [
    "# import dataset\n",
    "from sklearn.datasets import load_digits\n",
    "mnist = load_digits()\n",
    "data = mnist.images.astype(np.float32)\n",
    "labels = mnist.target.astype(np.int32)\n",
    "print(data)\n",
    "print(labels)\n",
    "mnist.keys()"
   ]
  },
  {
   "cell_type": "code",
   "execution_count": 52,
   "id": "33c836b6",
   "metadata": {},
   "outputs": [
    {
     "name": "stdout",
     "output_type": "stream",
     "text": [
      ".. _digits_dataset:\n",
      "\n",
      "Optical recognition of handwritten digits dataset\n",
      "--------------------------------------------------\n",
      "\n",
      "**Data Set Characteristics:**\n",
      "\n",
      "    :Number of Instances: 1797\n",
      "    :Number of Attributes: 64\n",
      "    :Attribute Information: 8x8 image of integer pixels in the range 0..16.\n",
      "    :Missing Attribute Values: None\n",
      "    :Creator: E. Alpaydin (alpaydin '@' boun.edu.tr)\n",
      "    :Date: July; 1998\n",
      "\n",
      "This is a copy of the test set of the UCI ML hand-written digits datasets\n",
      "https://archive.ics.uci.edu/ml/datasets/Optical+Recognition+of+Handwritten+Digits\n",
      "\n",
      "The data set contains images of hand-written digits: 10 classes where\n",
      "each class refers to a digit.\n",
      "\n",
      "Preprocessing programs made available by NIST were used to extract\n",
      "normalized bitmaps of handwritten digits from a preprinted form. From a\n",
      "total of 43 people, 30 contributed to the training set and different 13\n",
      "to the test set. 32x32 bitmaps are divided into nonoverlapping blocks of\n",
      "4x4 and the number of on pixels are counted in each block. This generates\n",
      "an input matrix of 8x8 where each element is an integer in the range\n",
      "0..16. This reduces dimensionality and gives invariance to small\n",
      "distortions.\n",
      "\n",
      "For info on NIST preprocessing routines, see M. D. Garris, J. L. Blue, G.\n",
      "T. Candela, D. L. Dimmick, J. Geist, P. J. Grother, S. A. Janet, and C.\n",
      "L. Wilson, NIST Form-Based Handprint Recognition System, NISTIR 5469,\n",
      "1994.\n",
      "\n",
      ".. topic:: References\n",
      "\n",
      "  - C. Kaynak (1995) Methods of Combining Multiple Classifiers and Their\n",
      "    Applications to Handwritten Digit Recognition, MSc Thesis, Institute of\n",
      "    Graduate Studies in Science and Engineering, Bogazici University.\n",
      "  - E. Alpaydin, C. Kaynak (1998) Cascading Classifiers, Kybernetika.\n",
      "  - Ken Tang and Ponnuthurai N. Suganthan and Xi Yao and A. Kai Qin.\n",
      "    Linear dimensionalityreduction using relevance weighted LDA. School of\n",
      "    Electrical and Electronic Engineering Nanyang Technological University.\n",
      "    2005.\n",
      "  - Claudio Gentile. A New Approximate Maximal Margin Classification\n",
      "    Algorithm. NIPS. 2000.\n",
      "\n"
     ]
    }
   ],
   "source": [
    "print(mnist.DESCR)"
   ]
  },
  {
   "cell_type": "code",
   "execution_count": 53,
   "id": "c675b825",
   "metadata": {},
   "outputs": [
    {
     "data": {
      "image/png": "[encoded data removed]",
      "text/plain": [
       "<Figure size 432x288 with 1 Axes>"
      ]
     },
     "metadata": {
      "needs_background": "light"
     },
     "output_type": "display_data"
    },
    {
     "data": {
      "image/png": "[encoded data removed]",
      "text/plain": [
       "<Figure size 432x288 with 1 Axes>"
      ]
     },
     "metadata": {
      "needs_background": "light"
     },
     "output_type": "display_data"
    },
    {
     "data": {
      "image/png": "[encoded data removed]",
      "text/plain": [
       "<Figure size 432x288 with 1 Axes>"
      ]
     },
     "metadata": {
      "needs_background": "light"
     },
     "output_type": "display_data"
    },
    {
     "data": {
      "image/png": "[encoded data removed]",
      "text/plain": [
       "<Figure size 432x288 with 1 Axes>"
      ]
     },
     "metadata": {
      "needs_background": "light"
     },
     "output_type": "display_data"
    },
    {
     "data": {
      "image/png": "[encoded data removed]",
      "text/plain": [
       "<Figure size 432x288 with 1 Axes>"
      ]
     },
     "metadata": {
      "needs_background": "light"
     },
     "output_type": "display_data"
    },
    {
     "data": {
      "image/png": "[encoded data removed]",
      "text/plain": [
       "<Figure size 432x288 with 1 Axes>"
      ]
     },
     "metadata": {
      "needs_background": "light"
     },
     "output_type": "display_data"
    },
    {
     "data": {
      "image/png": "[encoded data removed]",
      "text/plain": [
       "<Figure size 432x288 with 1 Axes>"
      ]
     },
     "metadata": {
      "needs_background": "light"
     },
     "output_type": "display_data"
    },
    {
     "data": {
      "image/png": "[encoded data removed]",
      "text/plain": [
       "<Figure size 432x288 with 1 Axes>"
      ]
     },
     "metadata": {
      "needs_background": "light"
     },
     "output_type": "display_data"
    },
    {
     "data": {
      "image/png": "[encoded data removed]",
      "text/plain": [
       "<Figure size 432x288 with 1 Axes>"
      ]
     },
     "metadata": {
      "needs_background": "light"
     },
     "output_type": "display_data"
    },
    {
     "data": {
      "image/png": "[encoded data removed]",
      "text/plain": [
       "<Figure size 432x288 with 1 Axes>"
      ]
     },
     "metadata": {
      "needs_background": "light"
     },
     "output_type": "display_data"
    }
   ],
   "source": [
    "# plot the first 10 numbers using plt\n",
    "\n",
    "for i in range(10): \n",
    "    plt.imshow(mnist.images[i])\n",
    "    plt.show()"
   ]
  },
  {
   "cell_type": "code",
   "execution_count": 54,
   "id": "a5634fd4",
   "metadata": {},
   "outputs": [],
   "source": [
    "# define neural network\n",
    "class CNNNumberClassifier(torch.nn.Module):\n",
    "    def __init__(self):\n",
    "        super().__init__()\n",
    "\n",
    "        # input channel is 1 since image is grayscale\n",
    "        # switching from conv2d, relu, and batch norm\n",
    "        L = [\n",
    "            torch.nn.Conv2d(1, 32, kernel_size=2), \n",
    "            torch.nn.ReLU(),\n",
    "            torch.nn.BatchNorm2d(32),\n",
    "            torch.nn.Conv2d(32, 64, kernel_size=2),\n",
    "            torch.nn.ReLU(),\n",
    "            torch.nn.BatchNorm2d(64),\n",
    "            torch.nn.Conv2d(64, 128, kernel_size=2),\n",
    "            torch.nn.ReLU(),\n",
    "            torch.nn.BatchNorm2d(128),\n",
    "            torch.nn.Conv2d(128, 256, kernel_size=2), \n",
    "            torch.nn.ReLU(),\n",
    "            torch.nn.Conv2d(256, 128, kernel_size=2), \n",
    "            torch.nn.ReLU(),\n",
    "            torch.nn.BatchNorm2d(128),\n",
    "            torch.nn.Conv2d(128, 64, kernel_size=2),\n",
    "            torch.nn.ReLU(),\n",
    "            torch.nn.BatchNorm2d(64),\n",
    "        ]\n",
    "        \n",
    "        # initialize network\n",
    "        self.network = torch.nn.Sequential(*L)\n",
    "        \n",
    "        # classify numbers between 0-9\n",
    "        self.classifier = torch.nn.Linear(64, 10)\n",
    "        \n",
    "    def forward(self, x):\n",
    "        z = self.network(x)\n",
    "        z = z.mean([2,3])\n",
    "        return self.classifier(z)"
   ]
  },
  {
   "cell_type": "code",
   "execution_count": 55,
   "id": "86428092",
   "metadata": {},
   "outputs": [],
   "source": [
    "# define dataset class\n",
    "from torch.utils.data import Dataset\n",
    "class DigitsDataset(Dataset):\n",
    "    def __init__(self, features, labels):\n",
    "        self.data = []\n",
    "        for x,y in zip(features, labels): \n",
    "            self.data.append((torch.tensor(x, dtype=torch.float32).unsqueeze(0),y))\n",
    "        \n",
    "    def __len__(self):\n",
    "        return len(self.data)\n",
    "\n",
    "                             \n",
    "    def __getitem__(self, idx):\n",
    "        return self.data[idx]\n",
    "                         "
   ]
  },
  {
   "cell_type": "code",
   "execution_count": 56,
   "id": "ed0385c5",
   "metadata": {},
   "outputs": [],
   "source": [
    "# process data into tensors\n",
    "data = []\n",
    "for image_data in mnist.images:\n",
    "    data.append(torch.tensor(image_data, dtype=torch.float64))"
   ]
  },
  {
   "cell_type": "code",
   "execution_count": 57,
   "id": "19b0f211",
   "metadata": {},
   "outputs": [],
   "source": [
    "def accuracy(outputs, labels):\n",
    "    outputs_idx = outputs.max(1)[1].type_as(labels)\n",
    "    return outputs_idx.eq(labels).float().mean()"
   ]
  },
  {
   "cell_type": "code",
   "execution_count": 58,
   "id": "301a8630",
   "metadata": {},
   "outputs": [
    {
     "name": "stderr",
     "output_type": "stream",
     "text": [
      "/var/folders/1t/51hvg6f90_s_pk5sxz5549b00000gn/T/ipykernel_11647/3623797631.py:7: UserWarning: To copy construct from a tensor, it is recommended to use sourceTensor.clone().detach() or sourceTensor.clone().detach().requires_grad_(True), rather than torch.tensor(sourceTensor).\n",
      "  self.data.append((torch.tensor(x, dtype=torch.float32).unsqueeze(0),y))\n"
     ]
    }
   ],
   "source": [
    "# train the model\n",
    "model = CNNNumberClassifier()\n",
    "\n",
    "device = torch.device(\"cuda\" if torch.cuda.is_available() else \"cpu\") \n",
    "\n",
    "# split dataset into train (80%)\n",
    "train_features, temp_features, train_labels, temp_labels = train_test_split(data, labels,\n",
    "                                                                   random_state=42, test_size=.2)\n",
    "\n",
    "# use remaining 20% of dataset and split it into validation (10%) and test datasets (10%)\n",
    "valid_features, test_features, valid_labels, test_labels = train_test_split(temp_features, temp_labels,\n",
    "                                                                    random_state=42, test_size=.5)\n",
    "\n",
    "# create dataset classes for train and valid\n",
    "train_data = DigitsDataset(train_features, train_labels)\n",
    "valid_data = DigitsDataset(valid_features, valid_labels)\n",
    "\n",
    "# place training data inside of dataloader\n",
    "data_loader_train = DataLoader(train_data, batch_size=32, shuffle=True, drop_last=True)\n",
    "data_loader_valid = DataLoader(valid_data, batch_size=32, shuffle=True, drop_last=True)\n",
    "\n",
    "# optimizer\n",
    "optimizer = SGD(model.parameters(), lr=.001, momentum=.9, weight_decay=.0001)\n",
    "\n",
    "\n",
    "# train the network epoch amount of times\n",
    "epochs = 100\n",
    "\n",
    "global_steps = 0\n",
    "\n",
    "train_loss = []\n",
    "valid_loss = []\n",
    "\n",
    "for i in range(epochs):\n",
    "    # iterate over the training dataset\n",
    "    train_acc = []\n",
    "    model.train()\n",
    "    for x, y in data_loader_train:\n",
    "        global_steps += 1\n",
    "        optimizer.zero_grad()\n",
    "        output = model(x)\n",
    "        loss = F.cross_entropy(output, y.long())\n",
    "        loss.backward()\n",
    "        \n",
    "        # now compute accuracy\n",
    "        acc = accuracy(output, y)\n",
    "\n",
    "        # log accuracy \n",
    "        train_acc.append(acc.item())\n",
    "        \n",
    "        # train loss\n",
    "        train_loss.append()\n",
    "        \n",
    "        optimizer.step()\n",
    "    # log average accuracy\n",
    "    avg_train_acc = torch.mean(torch.tensor(train_acc)).item()\n",
    "    #print('accuracy of batch: ', avg_train_acc)\n",
    "    \n",
    "    \n",
    "    # iterate over validation dataset\n",
    "    model.eval()\n",
    "    valid_acc = []\n",
    "    for x, y in data_loader_valid:\n",
    "        # put inputs and labels into gpu\n",
    "        #inputs = inputs.to(device)\n",
    "        #labels = labels.to(device)\n",
    "\n",
    "        # predict data \n",
    "        outputs = model(x)\n",
    "\n",
    "        # compute accuracy \n",
    "        acc = accuracy(outputs, y)\n",
    "            \n",
    "        # append accuracy to list\n",
    "        valid_acc.append(acc.item())\n",
    "    #print('accuracy of validation: ', str(torch.mean(torch.tensor(valid_acc)).item()))\n"
   ]
  },
  {
   "cell_type": "code",
   "execution_count": 59,
   "id": "314ddb64",
   "metadata": {},
   "outputs": [],
   "source": [
    "# plot training and validation losses \n"
   ]
  },
  {
   "cell_type": "code",
   "execution_count": 60,
   "id": "90cd135d",
   "metadata": {},
   "outputs": [
    {
     "name": "stdout",
     "output_type": "stream",
     "text": [
      "accuracy on test:  0.9944444298744202\n"
     ]
    },
    {
     "name": "stderr",
     "output_type": "stream",
     "text": [
      "/var/folders/1t/51hvg6f90_s_pk5sxz5549b00000gn/T/ipykernel_11647/3623797631.py:7: UserWarning: To copy construct from a tensor, it is recommended to use sourceTensor.clone().detach() or sourceTensor.clone().detach().requires_grad_(True), rather than torch.tensor(sourceTensor).\n",
      "  self.data.append((torch.tensor(x, dtype=torch.float32).unsqueeze(0),y))\n"
     ]
    }
   ],
   "source": [
    "# run model on testing data and report accuracy\n",
    "test_data = DigitsDataset(test_features, test_labels)\n",
    "data_loader_test = DataLoader(test_data, batch_size=1)\n",
    "\n",
    "model.eval()\n",
    "test_accuracies = []\n",
    "for x, y in data_loader_test:\n",
    "    # predict data \n",
    "    outputs = model(x)\n",
    "\n",
    "    # compute accuracy \n",
    "    acc = accuracy(outputs, y)\n",
    "            \n",
    "    # append accuracy to list\n",
    "    test_accuracies.append(acc.item())\n",
    "    \n",
    "print(\"accuracy on test: \", str(torch.mean(torch.tensor(test_accuracies)).item()))"
   ]
  },
  {
   "cell_type": "code",
   "execution_count": null,
   "id": "122f4e4d",
   "metadata": {},
   "outputs": [],
   "source": []
  },
  {
   "cell_type": "code",
   "execution_count": null,
   "id": "0b7ff84f",
   "metadata": {},
   "outputs": [],
   "source": []
  },
  {
   "cell_type": "code",
   "execution_count": null,
   "id": "ee65bbe6",
   "metadata": {},
   "outputs": [],
   "source": []
  },
  {
   "cell_type": "code",
   "execution_count": null,
   "id": "e8ce75be",
   "metadata": {},
   "outputs": [],
   "source": []
  }
 ],
 "metadata": {
  "kernelspec": {
   "display_name": "Python 3 (ipykernel)",
   "language": "python",
   "name": "python3"
  },
  "language_info": {
   "codemirror_mode": {
    "name": "ipython",
    "version": 3
   },
   "file_extension": ".py",
   "mimetype": "text/x-python",
   "name": "python",
   "nbconvert_exporter": "python",
   "pygments_lexer": "ipython3",
   "version": "3.9.12"
  }
 },
 "nbformat": 4,
 "nbformat_minor": 5
}
