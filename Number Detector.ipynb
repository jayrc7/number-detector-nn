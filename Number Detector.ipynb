{
 "cells": [
  {
   "cell_type": "code",
   "execution_count": 11,
   "id": "99815706",
   "metadata": {},
   "outputs": [],
   "source": [
    "# import libraries\n",
    "import pandas as pd\n",
    "import numpy as np\n",
    "import sklearn\n",
    "import matplotlib.pyplot as plt\n",
    "import torch\n",
    "from sklearn.model_selection import train_test_split\n",
    "from torch.utils.data import DataLoader\n",
    "import torch.nn.functional as F\n",
    "from torch.optim import SGD, Adam\n",
    "\n",
    "%matplotlib inline"
   ]
  },
  {
   "cell_type": "code",
   "execution_count": 12,
   "id": "147912e3",
   "metadata": {},
   "outputs": [],
   "source": [
    "# import dataset\n",
    "from sklearn.datasets import load_digits\n",
    "mnist = load_digits()\n",
    "data = mnist.images.astype(np.float32)\n",
    "labels = mnist.target.astype(np.int32)"
   ]
  },
  {
   "cell_type": "code",
   "execution_count": 13,
   "id": "a5634fd4",
   "metadata": {},
   "outputs": [],
   "source": [
    "# define neural network\n",
    "class CNNNumberClassifier(torch.nn.Module):\n",
    "    def __init__(self):\n",
    "        super().__init__()\n",
    "\n",
    "        # input channel is 1 since image is grayscale\n",
    "        # alternating from conv2d, relu, and batch norm\n",
    "        L = [\n",
    "            torch.nn.Conv2d(1, 32, kernel_size=2), \n",
    "            torch.nn.ReLU(),\n",
    "            torch.nn.BatchNorm2d(32),\n",
    "            torch.nn.Conv2d(32, 64, kernel_size=2),\n",
    "            torch.nn.ReLU(),\n",
    "            torch.nn.BatchNorm2d(64),\n",
    "            torch.nn.Conv2d(64, 128, kernel_size=2),\n",
    "            torch.nn.ReLU(),\n",
    "            torch.nn.BatchNorm2d(128),\n",
    "            torch.nn.Conv2d(128, 256, kernel_size=2), \n",
    "            torch.nn.ReLU(),\n",
    "            torch.nn.BatchNorm2d(256)\n",
    "        ]\n",
    "        \n",
    "        # initialize network\n",
    "        self.network = torch.nn.Sequential(*L)\n",
    "        \n",
    "        # classify numbers between 0-9\n",
    "        self.classifier = torch.nn.Linear(256, 10)\n",
    "        \n",
    "    def forward(self, x):\n",
    "        z = self.network(x)\n",
    "        z = z.mean([2,3])\n",
    "        return self.classifier(z)"
   ]
  },
  {
   "cell_type": "code",
   "execution_count": 14,
   "id": "86428092",
   "metadata": {},
   "outputs": [],
   "source": [
    "# define dataset class\n",
    "from torch.utils.data import Dataset\n",
    "class DigitsDataset(Dataset):\n",
    "    def __init__(self, features, labels):\n",
    "        self.data = []\n",
    "        for x,y in zip(features, labels): \n",
    "            self.data.append((torch.tensor(x, dtype=torch.float32).unsqueeze(0),y))\n",
    "        \n",
    "    def __len__(self):\n",
    "        return len(self.data)\n",
    "\n",
    "                             \n",
    "    def __getitem__(self, idx):\n",
    "        return self.data[idx]\n",
    "                         "
   ]
  },
  {
   "cell_type": "code",
   "execution_count": 15,
   "id": "ed0385c5",
   "metadata": {},
   "outputs": [],
   "source": [
    "# process data into tensors\n",
    "data = []\n",
    "for image_data in mnist.images:\n",
    "    data.append(torch.tensor(image_data, dtype=torch.float64))"
   ]
  },
  {
   "cell_type": "code",
   "execution_count": 20,
   "id": "19b0f211",
   "metadata": {},
   "outputs": [],
   "source": [
    "def accuracy(outputs, labels):\n",
    "    outputs_idx = outputs.max(1)[1].type_as(labels)\n",
    "    return outputs_idx.eq(labels).float().mean()"
   ]
  },
  {
   "cell_type": "code",
   "execution_count": null,
   "id": "301a8630",
   "metadata": {},
   "outputs": [
    {
     "name": "stderr",
     "output_type": "stream",
     "text": [
      "/var/folders/1t/51hvg6f90_s_pk5sxz5549b00000gn/T/ipykernel_39670/3623797631.py:7: UserWarning: To copy construct from a tensor, it is recommended to use sourceTensor.clone().detach() or sourceTensor.clone().detach().requires_grad_(True), rather than torch.tensor(sourceTensor).\n",
      "  self.data.append((torch.tensor(x, dtype=torch.float32).unsqueeze(0),y))\n"
     ]
    }
   ],
   "source": [
    "# train the model\n",
    "model = CNNNumberClassifier()\n",
    "\n",
    "device = torch.device(\"cuda\" if torch.cuda.is_available() else \"cpu\") \n",
    "\n",
    "# split dataset into train (80%)\n",
    "train_features, temp_features, train_labels, temp_labels = train_test_split(data, labels,\n",
    "                                                                   random_state=42, test_size=.2)\n",
    "\n",
    "# use remaining 20% of dataset and split it into validation (10%) and test datasets (10%)\n",
    "valid_features, test_features, valid_labels, test_labels = train_test_split(temp_features, temp_labels,\n",
    "                                                                    random_state=42, test_size=.5)\n",
    "\n",
    "# create dataset classes for train and valid\n",
    "train_data = DigitsDataset(train_features, train_labels)\n",
    "valid_data = DigitsDataset(valid_features, valid_labels)\n",
    "\n",
    "# place training data inside of dataloader\n",
    "data_loader_train = DataLoader(train_data, batch_size=32, shuffle=True, drop_last=True)\n",
    "data_loader_valid = DataLoader(valid_data, batch_size=32, shuffle=True, drop_last=True)\n",
    "\n",
    "# optimizer\n",
    "optimizer = SGD(model.parameters(), lr=.001, momentum=.9, weight_decay=.0001)\n",
    "\n",
    "# train the network epoch amount of times\n",
    "epochs = 200\n",
    "\n",
    "train_loss = []\n",
    "valid_acc = []\n",
    "\n",
    "for i in range(epochs):    \n",
    "    # training\n",
    "    model.train()\n",
    "    curr_loss = []\n",
    "    for x, y in data_loader_train:\n",
    "        optimizer.zero_grad()\n",
    "        \n",
    "        output = model(x)\n",
    "        \n",
    "        loss = F.cross_entropy(output, y.long())\n",
    "        loss.backward()\n",
    "        \n",
    "        curr_loss.append(loss)\n",
    "                \n",
    "        optimizer.step()\n",
    "        \n",
    "    # store average loss for the current epoch\n",
    "    avg_loss = torch.mean(torch.tensor(curr_loss)).item()    \n",
    "    train_loss.append(avg_loss)\n",
    "    \n",
    "    # validation\n",
    "    model.eval()\n",
    "    curr_acc = []\n",
    "    for x, y in data_loader_valid:\n",
    "        # predict data \n",
    "        outputs = model(x)\n",
    "\n",
    "        # compute accuracy \n",
    "        acc = accuracy(outputs, y)\n",
    "        \n",
    "        curr_acc.append(acc)\n",
    "        \n",
    "    # store average validation accuracy for the current epoch\n",
    "    avg_acc = torch.mean(torch.tensor(curr_acc)).item()\n",
    "    valid_acc.append(avg_acc)\n",
    "\n"
   ]
  },
  {
   "cell_type": "code",
   "execution_count": null,
   "id": "314ddb64",
   "metadata": {},
   "outputs": [],
   "source": [
    "# plot training and validation losses \n",
    "plt.figure(figsize=(12, 8))\n",
    "plt.plot([i for i in range(epochs)], train_loss, label=\"loss\")\n",
    "plt.plot([i for i in range(epochs)], valid_acc, label='valid acc')\n",
    "plt.legend()\n",
    "plt.show()"
   ]
  },
  {
   "cell_type": "code",
   "execution_count": null,
   "id": "90cd135d",
   "metadata": {},
   "outputs": [],
   "source": [
    "# run model on testing data and report accuracy\n",
    "test_data = DigitsDataset(test_features, test_labels)\n",
    "data_loader_test = DataLoader(test_data, batch_size=1)\n",
    "\n",
    "model.eval()\n",
    "test_accuracies = []\n",
    "for x, y in data_loader_test:\n",
    "    # predict data \n",
    "    outputs = model(x)\n",
    "\n",
    "    # compute accuracy \n",
    "    acc = accuracy(outputs, y)\n",
    "            \n",
    "    # append accuracy to list\n",
    "    test_accuracies.append(acc.item())\n",
    "    \n",
    "print(\"accuracy on test: \", str(torch.mean(torch.tensor(test_accuracies)).item()))"
   ]
  }
 ],
 "metadata": {
  "kernelspec": {
   "display_name": "Python 3 (ipykernel)",
   "language": "python",
   "name": "python3"
  },
  "language_info": {
   "codemirror_mode": {
    "name": "ipython",
    "version": 3
   },
   "file_extension": ".py",
   "mimetype": "text/x-python",
   "name": "python",
   "nbconvert_exporter": "python",
   "pygments_lexer": "ipython3",
   "version": "3.9.12"
  }
 },
 "nbformat": 4,
 "nbformat_minor": 5
}
